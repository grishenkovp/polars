{
  "nbformat": 4,
  "nbformat_minor": 0,
  "metadata": {
    "colab": {
      "provenance": []
    },
    "kernelspec": {
      "name": "python3",
      "display_name": "Python 3"
    },
    "language_info": {
      "name": "python"
    }
  },
  "cells": [
    {
      "cell_type": "code",
      "execution_count": 1,
      "metadata": {
        "colab": {
          "base_uri": "https://localhost:8080/"
        },
        "id": "yy33iEORJdqp",
        "outputId": "7cbf527a-57b2-46a6-9819-a09d99bced1f"
      },
      "outputs": [
        {
          "output_type": "stream",
          "name": "stdout",
          "text": [
            "Requirement already satisfied: polars in /usr/local/lib/python3.11/dist-packages (1.21.0)\n"
          ]
        }
      ],
      "source": [
        "!pip install polars"
      ]
    },
    {
      "cell_type": "markdown",
      "source": [
        "**Importing Polars**"
      ],
      "metadata": {
        "id": "gm_uTHfSOAXZ"
      }
    },
    {
      "cell_type": "code",
      "source": [
        "import polars as pl"
      ],
      "metadata": {
        "id": "j5sbjr7PKqo7"
      },
      "execution_count": 2,
      "outputs": []
    },
    {
      "cell_type": "markdown",
      "source": [
        "**Creating DataFrames**"
      ],
      "metadata": {
        "id": "cx4o3Zn6OCKr"
      }
    },
    {
      "cell_type": "code",
      "source": [
        "#Creating DataFrame\n",
        "df = pl.DataFrame({'id':   [1, 2, 3, 4, 5],\n",
        "                   'unom': [1001, 1002, 1003, 1004, 1005],\n",
        "                   'house_street': ['Central','Central','Central','North', 'West'],\n",
        "                   'nom': [10, 11, 12, 5, 7]})"
      ],
      "metadata": {
        "id": "PL19Hh3-KsDq"
      },
      "execution_count": 3,
      "outputs": []
    },
    {
      "cell_type": "markdown",
      "source": [
        "**Meta Operations**"
      ],
      "metadata": {
        "id": "kWkeqSDyXk88"
      }
    },
    {
      "cell_type": "code",
      "source": [
        "# Get column names\n",
        "df.columns"
      ],
      "metadata": {
        "colab": {
          "base_uri": "https://localhost:8080/"
        },
        "id": "MrbfEWvFXmac",
        "outputId": "10c972b9-ff77-4844-995c-85dc741d450b"
      },
      "execution_count": 4,
      "outputs": [
        {
          "output_type": "execute_result",
          "data": {
            "text/plain": [
              "['id', 'unom', 'house_street', 'nom']"
            ]
          },
          "metadata": {},
          "execution_count": 4
        }
      ]
    },
    {
      "cell_type": "code",
      "source": [
        "# Get dtypes\n",
        "df.dtypes"
      ],
      "metadata": {
        "colab": {
          "base_uri": "https://localhost:8080/"
        },
        "id": "4tsE5gjmXrPb",
        "outputId": "9cbef55b-f94e-4cb2-a611-44267b525cab"
      },
      "execution_count": 5,
      "outputs": [
        {
          "output_type": "execute_result",
          "data": {
            "text/plain": [
              "[Int64, Int64, String, Int64]"
            ]
          },
          "metadata": {},
          "execution_count": 5
        }
      ]
    },
    {
      "cell_type": "code",
      "source": [
        "# Get shape\n",
        "df.shape"
      ],
      "metadata": {
        "colab": {
          "base_uri": "https://localhost:8080/"
        },
        "id": "WlYZT9qzXtrM",
        "outputId": "defe5574-26d6-4eaf-bc4a-5acdd9ac483a"
      },
      "execution_count": 6,
      "outputs": [
        {
          "output_type": "execute_result",
          "data": {
            "text/plain": [
              "(5, 4)"
            ]
          },
          "metadata": {},
          "execution_count": 6
        }
      ]
    },
    {
      "cell_type": "code",
      "source": [
        "# Memory usage\n",
        "df.estimated_size()"
      ],
      "metadata": {
        "colab": {
          "base_uri": "https://localhost:8080/"
        },
        "id": "HPWvlQ7TXvZr",
        "outputId": "2f0963f8-dfac-4521-a9a5-96ca9ee7df3c"
      },
      "execution_count": 7,
      "outputs": [
        {
          "output_type": "execute_result",
          "data": {
            "text/plain": [
              "150"
            ]
          },
          "metadata": {},
          "execution_count": 7
        }
      ]
    },
    {
      "cell_type": "code",
      "source": [
        "# Display DataFrame\n",
        "print(df)"
      ],
      "metadata": {
        "colab": {
          "base_uri": "https://localhost:8080/"
        },
        "id": "6RbLr_W-Mfdb",
        "outputId": "046a48fd-c426-489c-efe6-141bac623771"
      },
      "execution_count": 8,
      "outputs": [
        {
          "output_type": "stream",
          "name": "stdout",
          "text": [
            "shape: (5, 4)\n",
            "┌─────┬──────┬──────────────┬─────┐\n",
            "│ id  ┆ unom ┆ house_street ┆ nom │\n",
            "│ --- ┆ ---  ┆ ---          ┆ --- │\n",
            "│ i64 ┆ i64  ┆ str          ┆ i64 │\n",
            "╞═════╪══════╪══════════════╪═════╡\n",
            "│ 1   ┆ 1001 ┆ Central      ┆ 10  │\n",
            "│ 2   ┆ 1002 ┆ Central      ┆ 11  │\n",
            "│ 3   ┆ 1003 ┆ Central      ┆ 12  │\n",
            "│ 4   ┆ 1004 ┆ North        ┆ 5   │\n",
            "│ 5   ┆ 1005 ┆ West         ┆ 7   │\n",
            "└─────┴──────┴──────────────┴─────┘\n"
          ]
        }
      ]
    },
    {
      "cell_type": "code",
      "source": [
        "# Get DataFrame info\n",
        "df.schema"
      ],
      "metadata": {
        "colab": {
          "base_uri": "https://localhost:8080/"
        },
        "id": "gkRWfjYEMoGD",
        "outputId": "ba08c3e9-c0f4-42ed-deb0-bac245847fcd"
      },
      "execution_count": 9,
      "outputs": [
        {
          "output_type": "execute_result",
          "data": {
            "text/plain": [
              "Schema([('id', Int64),\n",
              "        ('unom', Int64),\n",
              "        ('house_street', String),\n",
              "        ('nom', Int64)])"
            ]
          },
          "metadata": {},
          "execution_count": 9
        }
      ]
    },
    {
      "cell_type": "code",
      "source": [
        "# Select columns\n",
        "df.select(['id', 'unom'])"
      ],
      "metadata": {
        "colab": {
          "base_uri": "https://localhost:8080/",
          "height": 255
        },
        "id": "mESlSeCDMpdy",
        "outputId": "250bae31-4ff7-43f3-bfb1-a9821c57df20"
      },
      "execution_count": 10,
      "outputs": [
        {
          "output_type": "execute_result",
          "data": {
            "text/plain": [
              "shape: (5, 2)\n",
              "┌─────┬──────┐\n",
              "│ id  ┆ unom │\n",
              "│ --- ┆ ---  │\n",
              "│ i64 ┆ i64  │\n",
              "╞═════╪══════╡\n",
              "│ 1   ┆ 1001 │\n",
              "│ 2   ┆ 1002 │\n",
              "│ 3   ┆ 1003 │\n",
              "│ 4   ┆ 1004 │\n",
              "│ 5   ┆ 1005 │\n",
              "└─────┴──────┘"
            ],
            "text/html": [
              "<div><style>\n",
              ".dataframe > thead > tr,\n",
              ".dataframe > tbody > tr {\n",
              "  text-align: right;\n",
              "  white-space: pre-wrap;\n",
              "}\n",
              "</style>\n",
              "<small>shape: (5, 2)</small><table border=\"1\" class=\"dataframe\"><thead><tr><th>id</th><th>unom</th></tr><tr><td>i64</td><td>i64</td></tr></thead><tbody><tr><td>1</td><td>1001</td></tr><tr><td>2</td><td>1002</td></tr><tr><td>3</td><td>1003</td></tr><tr><td>4</td><td>1004</td></tr><tr><td>5</td><td>1005</td></tr></tbody></table></div>"
            ]
          },
          "metadata": {},
          "execution_count": 10
        }
      ]
    },
    {
      "cell_type": "code",
      "source": [
        "# Filter rows\n",
        "df.filter(pl.col('house_street') == 'Central')"
      ],
      "metadata": {
        "colab": {
          "base_uri": "https://localhost:8080/",
          "height": 192
        },
        "id": "Bwr5XaYbM0VK",
        "outputId": "acac2fab-b243-43c6-a31e-0c7ca8ec8d8e"
      },
      "execution_count": 11,
      "outputs": [
        {
          "output_type": "execute_result",
          "data": {
            "text/plain": [
              "shape: (3, 4)\n",
              "┌─────┬──────┬──────────────┬─────┐\n",
              "│ id  ┆ unom ┆ house_street ┆ nom │\n",
              "│ --- ┆ ---  ┆ ---          ┆ --- │\n",
              "│ i64 ┆ i64  ┆ str          ┆ i64 │\n",
              "╞═════╪══════╪══════════════╪═════╡\n",
              "│ 1   ┆ 1001 ┆ Central      ┆ 10  │\n",
              "│ 2   ┆ 1002 ┆ Central      ┆ 11  │\n",
              "│ 3   ┆ 1003 ┆ Central      ┆ 12  │\n",
              "└─────┴──────┴──────────────┴─────┘"
            ],
            "text/html": [
              "<div><style>\n",
              ".dataframe > thead > tr,\n",
              ".dataframe > tbody > tr {\n",
              "  text-align: right;\n",
              "  white-space: pre-wrap;\n",
              "}\n",
              "</style>\n",
              "<small>shape: (3, 4)</small><table border=\"1\" class=\"dataframe\"><thead><tr><th>id</th><th>unom</th><th>house_street</th><th>nom</th></tr><tr><td>i64</td><td>i64</td><td>str</td><td>i64</td></tr></thead><tbody><tr><td>1</td><td>1001</td><td>&quot;Central&quot;</td><td>10</td></tr><tr><td>2</td><td>1002</td><td>&quot;Central&quot;</td><td>11</td></tr><tr><td>3</td><td>1003</td><td>&quot;Central&quot;</td><td>12</td></tr></tbody></table></div>"
            ]
          },
          "metadata": {},
          "execution_count": 11
        }
      ]
    },
    {
      "cell_type": "code",
      "source": [
        "# Sort DataFrame\n",
        "df.sort('nom',descending=False)"
      ],
      "metadata": {
        "colab": {
          "base_uri": "https://localhost:8080/",
          "height": 255
        },
        "id": "Pz5Izg1GNP6b",
        "outputId": "279c527c-3d12-4a65-a1e8-53c7e0fc2dc6"
      },
      "execution_count": 12,
      "outputs": [
        {
          "output_type": "execute_result",
          "data": {
            "text/plain": [
              "shape: (5, 4)\n",
              "┌─────┬──────┬──────────────┬─────┐\n",
              "│ id  ┆ unom ┆ house_street ┆ nom │\n",
              "│ --- ┆ ---  ┆ ---          ┆ --- │\n",
              "│ i64 ┆ i64  ┆ str          ┆ i64 │\n",
              "╞═════╪══════╪══════════════╪═════╡\n",
              "│ 4   ┆ 1004 ┆ North        ┆ 5   │\n",
              "│ 5   ┆ 1005 ┆ West         ┆ 7   │\n",
              "│ 1   ┆ 1001 ┆ Central      ┆ 10  │\n",
              "│ 2   ┆ 1002 ┆ Central      ┆ 11  │\n",
              "│ 3   ┆ 1003 ┆ Central      ┆ 12  │\n",
              "└─────┴──────┴──────────────┴─────┘"
            ],
            "text/html": [
              "<div><style>\n",
              ".dataframe > thead > tr,\n",
              ".dataframe > tbody > tr {\n",
              "  text-align: right;\n",
              "  white-space: pre-wrap;\n",
              "}\n",
              "</style>\n",
              "<small>shape: (5, 4)</small><table border=\"1\" class=\"dataframe\"><thead><tr><th>id</th><th>unom</th><th>house_street</th><th>nom</th></tr><tr><td>i64</td><td>i64</td><td>str</td><td>i64</td></tr></thead><tbody><tr><td>4</td><td>1004</td><td>&quot;North&quot;</td><td>5</td></tr><tr><td>5</td><td>1005</td><td>&quot;West&quot;</td><td>7</td></tr><tr><td>1</td><td>1001</td><td>&quot;Central&quot;</td><td>10</td></tr><tr><td>2</td><td>1002</td><td>&quot;Central&quot;</td><td>11</td></tr><tr><td>3</td><td>1003</td><td>&quot;Central&quot;</td><td>12</td></tr></tbody></table></div>"
            ]
          },
          "metadata": {},
          "execution_count": 12
        }
      ]
    },
    {
      "cell_type": "code",
      "source": [
        "# Add new column\n",
        "df = df.with_columns(pl.lit(9).alias('district_id'))\n",
        "df.head(3)"
      ],
      "metadata": {
        "colab": {
          "base_uri": "https://localhost:8080/",
          "height": 192
        },
        "id": "QLgYRU-HNqyq",
        "outputId": "ce107515-0379-456c-f019-9cc8f737f438"
      },
      "execution_count": 13,
      "outputs": [
        {
          "output_type": "execute_result",
          "data": {
            "text/plain": [
              "shape: (3, 5)\n",
              "┌─────┬──────┬──────────────┬─────┬─────────────┐\n",
              "│ id  ┆ unom ┆ house_street ┆ nom ┆ district_id │\n",
              "│ --- ┆ ---  ┆ ---          ┆ --- ┆ ---         │\n",
              "│ i64 ┆ i64  ┆ str          ┆ i64 ┆ i32         │\n",
              "╞═════╪══════╪══════════════╪═════╪═════════════╡\n",
              "│ 1   ┆ 1001 ┆ Central      ┆ 10  ┆ 9           │\n",
              "│ 2   ┆ 1002 ┆ Central      ┆ 11  ┆ 9           │\n",
              "│ 3   ┆ 1003 ┆ Central      ┆ 12  ┆ 9           │\n",
              "└─────┴──────┴──────────────┴─────┴─────────────┘"
            ],
            "text/html": [
              "<div><style>\n",
              ".dataframe > thead > tr,\n",
              ".dataframe > tbody > tr {\n",
              "  text-align: right;\n",
              "  white-space: pre-wrap;\n",
              "}\n",
              "</style>\n",
              "<small>shape: (3, 5)</small><table border=\"1\" class=\"dataframe\"><thead><tr><th>id</th><th>unom</th><th>house_street</th><th>nom</th><th>district_id</th></tr><tr><td>i64</td><td>i64</td><td>str</td><td>i64</td><td>i32</td></tr></thead><tbody><tr><td>1</td><td>1001</td><td>&quot;Central&quot;</td><td>10</td><td>9</td></tr><tr><td>2</td><td>1002</td><td>&quot;Central&quot;</td><td>11</td><td>9</td></tr><tr><td>3</td><td>1003</td><td>&quot;Central&quot;</td><td>12</td><td>9</td></tr></tbody></table></div>"
            ]
          },
          "metadata": {},
          "execution_count": 13
        }
      ]
    },
    {
      "cell_type": "code",
      "source": [
        "# Rename columns\n",
        "df = df.rename({'district_id': 'district'})\n",
        "df.head(3)"
      ],
      "metadata": {
        "colab": {
          "base_uri": "https://localhost:8080/",
          "height": 192
        },
        "id": "-e2Zo6hCN5eB",
        "outputId": "9a565a52-e76c-46e7-cc34-dd64c565bade"
      },
      "execution_count": 14,
      "outputs": [
        {
          "output_type": "execute_result",
          "data": {
            "text/plain": [
              "shape: (3, 5)\n",
              "┌─────┬──────┬──────────────┬─────┬──────────┐\n",
              "│ id  ┆ unom ┆ house_street ┆ nom ┆ district │\n",
              "│ --- ┆ ---  ┆ ---          ┆ --- ┆ ---      │\n",
              "│ i64 ┆ i64  ┆ str          ┆ i64 ┆ i32      │\n",
              "╞═════╪══════╪══════════════╪═════╪══════════╡\n",
              "│ 1   ┆ 1001 ┆ Central      ┆ 10  ┆ 9        │\n",
              "│ 2   ┆ 1002 ┆ Central      ┆ 11  ┆ 9        │\n",
              "│ 3   ┆ 1003 ┆ Central      ┆ 12  ┆ 9        │\n",
              "└─────┴──────┴──────────────┴─────┴──────────┘"
            ],
            "text/html": [
              "<div><style>\n",
              ".dataframe > thead > tr,\n",
              ".dataframe > tbody > tr {\n",
              "  text-align: right;\n",
              "  white-space: pre-wrap;\n",
              "}\n",
              "</style>\n",
              "<small>shape: (3, 5)</small><table border=\"1\" class=\"dataframe\"><thead><tr><th>id</th><th>unom</th><th>house_street</th><th>nom</th><th>district</th></tr><tr><td>i64</td><td>i64</td><td>str</td><td>i64</td><td>i32</td></tr></thead><tbody><tr><td>1</td><td>1001</td><td>&quot;Central&quot;</td><td>10</td><td>9</td></tr><tr><td>2</td><td>1002</td><td>&quot;Central&quot;</td><td>11</td><td>9</td></tr><tr><td>3</td><td>1003</td><td>&quot;Central&quot;</td><td>12</td><td>9</td></tr></tbody></table></div>"
            ]
          },
          "metadata": {},
          "execution_count": 14
        }
      ]
    },
    {
      "cell_type": "code",
      "source": [
        "# Drop columns\n",
        "df = df.drop(['district'])\n",
        "df.head(3)"
      ],
      "metadata": {
        "colab": {
          "base_uri": "https://localhost:8080/",
          "height": 192
        },
        "id": "0RFQzbKjO3yC",
        "outputId": "c3532e3a-576e-489a-efcc-88c6219a5405"
      },
      "execution_count": 15,
      "outputs": [
        {
          "output_type": "execute_result",
          "data": {
            "text/plain": [
              "shape: (3, 4)\n",
              "┌─────┬──────┬──────────────┬─────┐\n",
              "│ id  ┆ unom ┆ house_street ┆ nom │\n",
              "│ --- ┆ ---  ┆ ---          ┆ --- │\n",
              "│ i64 ┆ i64  ┆ str          ┆ i64 │\n",
              "╞═════╪══════╪══════════════╪═════╡\n",
              "│ 1   ┆ 1001 ┆ Central      ┆ 10  │\n",
              "│ 2   ┆ 1002 ┆ Central      ┆ 11  │\n",
              "│ 3   ┆ 1003 ┆ Central      ┆ 12  │\n",
              "└─────┴──────┴──────────────┴─────┘"
            ],
            "text/html": [
              "<div><style>\n",
              ".dataframe > thead > tr,\n",
              ".dataframe > tbody > tr {\n",
              "  text-align: right;\n",
              "  white-space: pre-wrap;\n",
              "}\n",
              "</style>\n",
              "<small>shape: (3, 4)</small><table border=\"1\" class=\"dataframe\"><thead><tr><th>id</th><th>unom</th><th>house_street</th><th>nom</th></tr><tr><td>i64</td><td>i64</td><td>str</td><td>i64</td></tr></thead><tbody><tr><td>1</td><td>1001</td><td>&quot;Central&quot;</td><td>10</td></tr><tr><td>2</td><td>1002</td><td>&quot;Central&quot;</td><td>11</td></tr><tr><td>3</td><td>1003</td><td>&quot;Central&quot;</td><td>12</td></tr></tbody></table></div>"
            ]
          },
          "metadata": {},
          "execution_count": 15
        }
      ]
    },
    {
      "cell_type": "code",
      "source": [
        "# Group by and aggregate\n",
        "df.group_by('house_street').agg(pl.count('unom'))"
      ],
      "metadata": {
        "colab": {
          "base_uri": "https://localhost:8080/",
          "height": 192
        },
        "id": "h6X7WuufPAoE",
        "outputId": "6d43dbed-961c-45b0-ed1c-bf861e4aeae1"
      },
      "execution_count": 16,
      "outputs": [
        {
          "output_type": "execute_result",
          "data": {
            "text/plain": [
              "shape: (3, 2)\n",
              "┌──────────────┬──────┐\n",
              "│ house_street ┆ unom │\n",
              "│ ---          ┆ ---  │\n",
              "│ str          ┆ u32  │\n",
              "╞══════════════╪══════╡\n",
              "│ Central      ┆ 3    │\n",
              "│ West         ┆ 1    │\n",
              "│ North        ┆ 1    │\n",
              "└──────────────┴──────┘"
            ],
            "text/html": [
              "<div><style>\n",
              ".dataframe > thead > tr,\n",
              ".dataframe > tbody > tr {\n",
              "  text-align: right;\n",
              "  white-space: pre-wrap;\n",
              "}\n",
              "</style>\n",
              "<small>shape: (3, 2)</small><table border=\"1\" class=\"dataframe\"><thead><tr><th>house_street</th><th>unom</th></tr><tr><td>str</td><td>u32</td></tr></thead><tbody><tr><td>&quot;Central&quot;</td><td>3</td></tr><tr><td>&quot;West&quot;</td><td>1</td></tr><tr><td>&quot;North&quot;</td><td>1</td></tr></tbody></table></div>"
            ]
          },
          "metadata": {},
          "execution_count": 16
        }
      ]
    },
    {
      "cell_type": "markdown",
      "source": [
        "**Data Manipulation**"
      ],
      "metadata": {
        "id": "Mm5JyARdPUDC"
      }
    },
    {
      "cell_type": "code",
      "source": [
        "# Apply function to column\n",
        "df = df.with_columns(pl.col('nom').map_elements(lambda x: x + 1).alias('nom_correction'))\n",
        "df.head()"
      ],
      "metadata": {
        "colab": {
          "base_uri": "https://localhost:8080/",
          "height": 466
        },
        "id": "MIijZ7TVPWH8",
        "outputId": "86b1d571-3fcd-421a-95c6-19f04fd7b202"
      },
      "execution_count": 17,
      "outputs": [
        {
          "output_type": "stream",
          "name": "stderr",
          "text": [
            "<ipython-input-17-8da3b4c4f40c>:2: PolarsInefficientMapWarning: \n",
            "Expr.map_elements is significantly slower than the native expressions API.\n",
            "Only use if you absolutely CANNOT implement your logic otherwise.\n",
            "Replace this expression...\n",
            "  - pl.col(\"nom\").map_elements(lambda x: ...)\n",
            "with this one instead:\n",
            "  + pl.col(\"nom\") + 1\n",
            "\n",
            "  df = df.with_columns(pl.col('nom').map_elements(lambda x: x + 1).alias('nom_correction'))\n",
            "<ipython-input-17-8da3b4c4f40c>:2: MapWithoutReturnDtypeWarning: Calling `map_elements` without specifying `return_dtype` can lead to unpredictable results. Specify `return_dtype` to silence this warning.\n",
            "  df = df.with_columns(pl.col('nom').map_elements(lambda x: x + 1).alias('nom_correction'))\n"
          ]
        },
        {
          "output_type": "execute_result",
          "data": {
            "text/plain": [
              "shape: (5, 5)\n",
              "┌─────┬──────┬──────────────┬─────┬────────────────┐\n",
              "│ id  ┆ unom ┆ house_street ┆ nom ┆ nom_correction │\n",
              "│ --- ┆ ---  ┆ ---          ┆ --- ┆ ---            │\n",
              "│ i64 ┆ i64  ┆ str          ┆ i64 ┆ i64            │\n",
              "╞═════╪══════╪══════════════╪═════╪════════════════╡\n",
              "│ 1   ┆ 1001 ┆ Central      ┆ 10  ┆ 11             │\n",
              "│ 2   ┆ 1002 ┆ Central      ┆ 11  ┆ 12             │\n",
              "│ 3   ┆ 1003 ┆ Central      ┆ 12  ┆ 13             │\n",
              "│ 4   ┆ 1004 ┆ North        ┆ 5   ┆ 6              │\n",
              "│ 5   ┆ 1005 ┆ West         ┆ 7   ┆ 8              │\n",
              "└─────┴──────┴──────────────┴─────┴────────────────┘"
            ],
            "text/html": [
              "<div><style>\n",
              ".dataframe > thead > tr,\n",
              ".dataframe > tbody > tr {\n",
              "  text-align: right;\n",
              "  white-space: pre-wrap;\n",
              "}\n",
              "</style>\n",
              "<small>shape: (5, 5)</small><table border=\"1\" class=\"dataframe\"><thead><tr><th>id</th><th>unom</th><th>house_street</th><th>nom</th><th>nom_correction</th></tr><tr><td>i64</td><td>i64</td><td>str</td><td>i64</td><td>i64</td></tr></thead><tbody><tr><td>1</td><td>1001</td><td>&quot;Central&quot;</td><td>10</td><td>11</td></tr><tr><td>2</td><td>1002</td><td>&quot;Central&quot;</td><td>11</td><td>12</td></tr><tr><td>3</td><td>1003</td><td>&quot;Central&quot;</td><td>12</td><td>13</td></tr><tr><td>4</td><td>1004</td><td>&quot;North&quot;</td><td>5</td><td>6</td></tr><tr><td>5</td><td>1005</td><td>&quot;West&quot;</td><td>7</td><td>8</td></tr></tbody></table></div>"
            ]
          },
          "metadata": {},
          "execution_count": 17
        }
      ]
    },
    {
      "cell_type": "code",
      "source": [
        "# Custom function\n",
        "def custom_func(x):\n",
        "    return x + 2\n",
        "\n",
        "# Apply custom function\n",
        "df.with_columns(pl.col('nom').map_batches(custom_func).alias('nom_correction_2'))"
      ],
      "metadata": {
        "colab": {
          "base_uri": "https://localhost:8080/",
          "height": 255
        },
        "id": "klVVe5PaaC5m",
        "outputId": "037de92e-6bfe-4ff1-9bd4-023b59c1e3b2"
      },
      "execution_count": 18,
      "outputs": [
        {
          "output_type": "execute_result",
          "data": {
            "text/plain": [
              "shape: (5, 6)\n",
              "┌─────┬──────┬──────────────┬─────┬────────────────┬──────────────────┐\n",
              "│ id  ┆ unom ┆ house_street ┆ nom ┆ nom_correction ┆ nom_correction_2 │\n",
              "│ --- ┆ ---  ┆ ---          ┆ --- ┆ ---            ┆ ---              │\n",
              "│ i64 ┆ i64  ┆ str          ┆ i64 ┆ i64            ┆ i64              │\n",
              "╞═════╪══════╪══════════════╪═════╪════════════════╪══════════════════╡\n",
              "│ 1   ┆ 1001 ┆ Central      ┆ 10  ┆ 11             ┆ 12               │\n",
              "│ 2   ┆ 1002 ┆ Central      ┆ 11  ┆ 12             ┆ 13               │\n",
              "│ 3   ┆ 1003 ┆ Central      ┆ 12  ┆ 13             ┆ 14               │\n",
              "│ 4   ┆ 1004 ┆ North        ┆ 5   ┆ 6              ┆ 7                │\n",
              "│ 5   ┆ 1005 ┆ West         ┆ 7   ┆ 8              ┆ 9                │\n",
              "└─────┴──────┴──────────────┴─────┴────────────────┴──────────────────┘"
            ],
            "text/html": [
              "<div><style>\n",
              ".dataframe > thead > tr,\n",
              ".dataframe > tbody > tr {\n",
              "  text-align: right;\n",
              "  white-space: pre-wrap;\n",
              "}\n",
              "</style>\n",
              "<small>shape: (5, 6)</small><table border=\"1\" class=\"dataframe\"><thead><tr><th>id</th><th>unom</th><th>house_street</th><th>nom</th><th>nom_correction</th><th>nom_correction_2</th></tr><tr><td>i64</td><td>i64</td><td>str</td><td>i64</td><td>i64</td><td>i64</td></tr></thead><tbody><tr><td>1</td><td>1001</td><td>&quot;Central&quot;</td><td>10</td><td>11</td><td>12</td></tr><tr><td>2</td><td>1002</td><td>&quot;Central&quot;</td><td>11</td><td>12</td><td>13</td></tr><tr><td>3</td><td>1003</td><td>&quot;Central&quot;</td><td>12</td><td>13</td><td>14</td></tr><tr><td>4</td><td>1004</td><td>&quot;North&quot;</td><td>5</td><td>6</td><td>7</td></tr><tr><td>5</td><td>1005</td><td>&quot;West&quot;</td><td>7</td><td>8</td><td>9</td></tr></tbody></table></div>"
            ]
          },
          "metadata": {},
          "execution_count": 18
        }
      ]
    },
    {
      "cell_type": "code",
      "source": [
        "# Replace values\n",
        "df = df.with_columns(pl.col('nom_correction').replace({13: 15, 6: 7}))\n",
        "df.head()"
      ],
      "metadata": {
        "colab": {
          "base_uri": "https://localhost:8080/",
          "height": 255
        },
        "id": "IU5Z1EQ6TFvL",
        "outputId": "1bc62ac2-f477-49c1-87d0-061cae18f24b"
      },
      "execution_count": 19,
      "outputs": [
        {
          "output_type": "execute_result",
          "data": {
            "text/plain": [
              "shape: (5, 5)\n",
              "┌─────┬──────┬──────────────┬─────┬────────────────┐\n",
              "│ id  ┆ unom ┆ house_street ┆ nom ┆ nom_correction │\n",
              "│ --- ┆ ---  ┆ ---          ┆ --- ┆ ---            │\n",
              "│ i64 ┆ i64  ┆ str          ┆ i64 ┆ i64            │\n",
              "╞═════╪══════╪══════════════╪═════╪════════════════╡\n",
              "│ 1   ┆ 1001 ┆ Central      ┆ 10  ┆ 11             │\n",
              "│ 2   ┆ 1002 ┆ Central      ┆ 11  ┆ 12             │\n",
              "│ 3   ┆ 1003 ┆ Central      ┆ 12  ┆ 15             │\n",
              "│ 4   ┆ 1004 ┆ North        ┆ 5   ┆ 7              │\n",
              "│ 5   ┆ 1005 ┆ West         ┆ 7   ┆ 8              │\n",
              "└─────┴──────┴──────────────┴─────┴────────────────┘"
            ],
            "text/html": [
              "<div><style>\n",
              ".dataframe > thead > tr,\n",
              ".dataframe > tbody > tr {\n",
              "  text-align: right;\n",
              "  white-space: pre-wrap;\n",
              "}\n",
              "</style>\n",
              "<small>shape: (5, 5)</small><table border=\"1\" class=\"dataframe\"><thead><tr><th>id</th><th>unom</th><th>house_street</th><th>nom</th><th>nom_correction</th></tr><tr><td>i64</td><td>i64</td><td>str</td><td>i64</td><td>i64</td></tr></thead><tbody><tr><td>1</td><td>1001</td><td>&quot;Central&quot;</td><td>10</td><td>11</td></tr><tr><td>2</td><td>1002</td><td>&quot;Central&quot;</td><td>11</td><td>12</td></tr><tr><td>3</td><td>1003</td><td>&quot;Central&quot;</td><td>12</td><td>15</td></tr><tr><td>4</td><td>1004</td><td>&quot;North&quot;</td><td>5</td><td>7</td></tr><tr><td>5</td><td>1005</td><td>&quot;West&quot;</td><td>7</td><td>8</td></tr></tbody></table></div>"
            ]
          },
          "metadata": {},
          "execution_count": 19
        }
      ]
    },
    {
      "cell_type": "markdown",
      "source": [
        "**String Operations**"
      ],
      "metadata": {
        "id": "e0Lf5zPtT9cx"
      }
    },
    {
      "cell_type": "code",
      "source": [
        "# Convert to uppercase\n",
        "df.with_columns(pl.col('house_street').str.to_uppercase())"
      ],
      "metadata": {
        "colab": {
          "base_uri": "https://localhost:8080/",
          "height": 255
        },
        "id": "776r7jM0T-sT",
        "outputId": "2fa93786-4dfe-428d-8069-79e1873b13d2"
      },
      "execution_count": 20,
      "outputs": [
        {
          "output_type": "execute_result",
          "data": {
            "text/plain": [
              "shape: (5, 5)\n",
              "┌─────┬──────┬──────────────┬─────┬────────────────┐\n",
              "│ id  ┆ unom ┆ house_street ┆ nom ┆ nom_correction │\n",
              "│ --- ┆ ---  ┆ ---          ┆ --- ┆ ---            │\n",
              "│ i64 ┆ i64  ┆ str          ┆ i64 ┆ i64            │\n",
              "╞═════╪══════╪══════════════╪═════╪════════════════╡\n",
              "│ 1   ┆ 1001 ┆ CENTRAL      ┆ 10  ┆ 11             │\n",
              "│ 2   ┆ 1002 ┆ CENTRAL      ┆ 11  ┆ 12             │\n",
              "│ 3   ┆ 1003 ┆ CENTRAL      ┆ 12  ┆ 15             │\n",
              "│ 4   ┆ 1004 ┆ NORTH        ┆ 5   ┆ 7              │\n",
              "│ 5   ┆ 1005 ┆ WEST         ┆ 7   ┆ 8              │\n",
              "└─────┴──────┴──────────────┴─────┴────────────────┘"
            ],
            "text/html": [
              "<div><style>\n",
              ".dataframe > thead > tr,\n",
              ".dataframe > tbody > tr {\n",
              "  text-align: right;\n",
              "  white-space: pre-wrap;\n",
              "}\n",
              "</style>\n",
              "<small>shape: (5, 5)</small><table border=\"1\" class=\"dataframe\"><thead><tr><th>id</th><th>unom</th><th>house_street</th><th>nom</th><th>nom_correction</th></tr><tr><td>i64</td><td>i64</td><td>str</td><td>i64</td><td>i64</td></tr></thead><tbody><tr><td>1</td><td>1001</td><td>&quot;CENTRAL&quot;</td><td>10</td><td>11</td></tr><tr><td>2</td><td>1002</td><td>&quot;CENTRAL&quot;</td><td>11</td><td>12</td></tr><tr><td>3</td><td>1003</td><td>&quot;CENTRAL&quot;</td><td>12</td><td>15</td></tr><tr><td>4</td><td>1004</td><td>&quot;NORTH&quot;</td><td>5</td><td>7</td></tr><tr><td>5</td><td>1005</td><td>&quot;WEST&quot;</td><td>7</td><td>8</td></tr></tbody></table></div>"
            ]
          },
          "metadata": {},
          "execution_count": 20
        }
      ]
    },
    {
      "cell_type": "code",
      "source": [
        "street_list = ['Central', 'North']\n",
        "df.filter(pl.col('house_street').str.contains_any(street_list))"
      ],
      "metadata": {
        "colab": {
          "base_uri": "https://localhost:8080/",
          "height": 224
        },
        "id": "Abx_P5Y4UGwq",
        "outputId": "c6c1e1e2-5f72-4636-fedf-c46473e6984a"
      },
      "execution_count": 22,
      "outputs": [
        {
          "output_type": "execute_result",
          "data": {
            "text/plain": [
              "shape: (4, 5)\n",
              "┌─────┬──────┬──────────────┬─────┬────────────────┐\n",
              "│ id  ┆ unom ┆ house_street ┆ nom ┆ nom_correction │\n",
              "│ --- ┆ ---  ┆ ---          ┆ --- ┆ ---            │\n",
              "│ i64 ┆ i64  ┆ str          ┆ i64 ┆ i64            │\n",
              "╞═════╪══════╪══════════════╪═════╪════════════════╡\n",
              "│ 1   ┆ 1001 ┆ Central      ┆ 10  ┆ 11             │\n",
              "│ 2   ┆ 1002 ┆ Central      ┆ 11  ┆ 12             │\n",
              "│ 3   ┆ 1003 ┆ Central      ┆ 12  ┆ 15             │\n",
              "│ 4   ┆ 1004 ┆ North        ┆ 5   ┆ 7              │\n",
              "└─────┴──────┴──────────────┴─────┴────────────────┘"
            ],
            "text/html": [
              "<div><style>\n",
              ".dataframe > thead > tr,\n",
              ".dataframe > tbody > tr {\n",
              "  text-align: right;\n",
              "  white-space: pre-wrap;\n",
              "}\n",
              "</style>\n",
              "<small>shape: (4, 5)</small><table border=\"1\" class=\"dataframe\"><thead><tr><th>id</th><th>unom</th><th>house_street</th><th>nom</th><th>nom_correction</th></tr><tr><td>i64</td><td>i64</td><td>str</td><td>i64</td><td>i64</td></tr></thead><tbody><tr><td>1</td><td>1001</td><td>&quot;Central&quot;</td><td>10</td><td>11</td></tr><tr><td>2</td><td>1002</td><td>&quot;Central&quot;</td><td>11</td><td>12</td></tr><tr><td>3</td><td>1003</td><td>&quot;Central&quot;</td><td>12</td><td>15</td></tr><tr><td>4</td><td>1004</td><td>&quot;North&quot;</td><td>5</td><td>7</td></tr></tbody></table></div>"
            ]
          },
          "metadata": {},
          "execution_count": 22
        }
      ]
    },
    {
      "cell_type": "code",
      "source": [
        "# String replace\n",
        "df.with_columns(pl.col('house_street').str.replace('North', 'South'))"
      ],
      "metadata": {
        "colab": {
          "base_uri": "https://localhost:8080/",
          "height": 255
        },
        "id": "TuNTwmnzVBxC",
        "outputId": "c23154dc-a68b-474f-f173-045af17443a2"
      },
      "execution_count": 23,
      "outputs": [
        {
          "output_type": "execute_result",
          "data": {
            "text/plain": [
              "shape: (5, 5)\n",
              "┌─────┬──────┬──────────────┬─────┬────────────────┐\n",
              "│ id  ┆ unom ┆ house_street ┆ nom ┆ nom_correction │\n",
              "│ --- ┆ ---  ┆ ---          ┆ --- ┆ ---            │\n",
              "│ i64 ┆ i64  ┆ str          ┆ i64 ┆ i64            │\n",
              "╞═════╪══════╪══════════════╪═════╪════════════════╡\n",
              "│ 1   ┆ 1001 ┆ Central      ┆ 10  ┆ 11             │\n",
              "│ 2   ┆ 1002 ┆ Central      ┆ 11  ┆ 12             │\n",
              "│ 3   ┆ 1003 ┆ Central      ┆ 12  ┆ 15             │\n",
              "│ 4   ┆ 1004 ┆ South        ┆ 5   ┆ 7              │\n",
              "│ 5   ┆ 1005 ┆ West         ┆ 7   ┆ 8              │\n",
              "└─────┴──────┴──────────────┴─────┴────────────────┘"
            ],
            "text/html": [
              "<div><style>\n",
              ".dataframe > thead > tr,\n",
              ".dataframe > tbody > tr {\n",
              "  text-align: right;\n",
              "  white-space: pre-wrap;\n",
              "}\n",
              "</style>\n",
              "<small>shape: (5, 5)</small><table border=\"1\" class=\"dataframe\"><thead><tr><th>id</th><th>unom</th><th>house_street</th><th>nom</th><th>nom_correction</th></tr><tr><td>i64</td><td>i64</td><td>str</td><td>i64</td><td>i64</td></tr></thead><tbody><tr><td>1</td><td>1001</td><td>&quot;Central&quot;</td><td>10</td><td>11</td></tr><tr><td>2</td><td>1002</td><td>&quot;Central&quot;</td><td>11</td><td>12</td></tr><tr><td>3</td><td>1003</td><td>&quot;Central&quot;</td><td>12</td><td>15</td></tr><tr><td>4</td><td>1004</td><td>&quot;South&quot;</td><td>5</td><td>7</td></tr><tr><td>5</td><td>1005</td><td>&quot;West&quot;</td><td>7</td><td>8</td></tr></tbody></table></div>"
            ]
          },
          "metadata": {},
          "execution_count": 23
        }
      ]
    },
    {
      "cell_type": "code",
      "source": [
        "# String length\n",
        "df.with_columns(pl.col('house_street').str.len_chars().alias('name_street_length'))"
      ],
      "metadata": {
        "colab": {
          "base_uri": "https://localhost:8080/",
          "height": 255
        },
        "id": "QpUpkY16VSTK",
        "outputId": "4c5d3aff-53b7-496b-fe06-a0488b2c539e"
      },
      "execution_count": 24,
      "outputs": [
        {
          "output_type": "execute_result",
          "data": {
            "text/plain": [
              "shape: (5, 6)\n",
              "┌─────┬──────┬──────────────┬─────┬────────────────┬────────────────────┐\n",
              "│ id  ┆ unom ┆ house_street ┆ nom ┆ nom_correction ┆ name_street_length │\n",
              "│ --- ┆ ---  ┆ ---          ┆ --- ┆ ---            ┆ ---                │\n",
              "│ i64 ┆ i64  ┆ str          ┆ i64 ┆ i64            ┆ u32                │\n",
              "╞═════╪══════╪══════════════╪═════╪════════════════╪════════════════════╡\n",
              "│ 1   ┆ 1001 ┆ Central      ┆ 10  ┆ 11             ┆ 7                  │\n",
              "│ 2   ┆ 1002 ┆ Central      ┆ 11  ┆ 12             ┆ 7                  │\n",
              "│ 3   ┆ 1003 ┆ Central      ┆ 12  ┆ 15             ┆ 7                  │\n",
              "│ 4   ┆ 1004 ┆ North        ┆ 5   ┆ 7              ┆ 5                  │\n",
              "│ 5   ┆ 1005 ┆ West         ┆ 7   ┆ 8              ┆ 4                  │\n",
              "└─────┴──────┴──────────────┴─────┴────────────────┴────────────────────┘"
            ],
            "text/html": [
              "<div><style>\n",
              ".dataframe > thead > tr,\n",
              ".dataframe > tbody > tr {\n",
              "  text-align: right;\n",
              "  white-space: pre-wrap;\n",
              "}\n",
              "</style>\n",
              "<small>shape: (5, 6)</small><table border=\"1\" class=\"dataframe\"><thead><tr><th>id</th><th>unom</th><th>house_street</th><th>nom</th><th>nom_correction</th><th>name_street_length</th></tr><tr><td>i64</td><td>i64</td><td>str</td><td>i64</td><td>i64</td><td>u32</td></tr></thead><tbody><tr><td>1</td><td>1001</td><td>&quot;Central&quot;</td><td>10</td><td>11</td><td>7</td></tr><tr><td>2</td><td>1002</td><td>&quot;Central&quot;</td><td>11</td><td>12</td><td>7</td></tr><tr><td>3</td><td>1003</td><td>&quot;Central&quot;</td><td>12</td><td>15</td><td>7</td></tr><tr><td>4</td><td>1004</td><td>&quot;North&quot;</td><td>5</td><td>7</td><td>5</td></tr><tr><td>5</td><td>1005</td><td>&quot;West&quot;</td><td>7</td><td>8</td><td>4</td></tr></tbody></table></div>"
            ]
          },
          "metadata": {},
          "execution_count": 24
        }
      ]
    },
    {
      "cell_type": "markdown",
      "source": [
        "**Window Functions**"
      ],
      "metadata": {
        "id": "5lonFQ97VsmI"
      }
    },
    {
      "cell_type": "code",
      "source": [
        "# Cumulative sum\n",
        "df.with_columns(pl.col('id').cum_sum().over('house_street').alias('id_cum'))"
      ],
      "metadata": {
        "colab": {
          "base_uri": "https://localhost:8080/",
          "height": 255
        },
        "id": "X7PiZ3ugVt6b",
        "outputId": "f57a3035-0250-4408-ada5-0102227ede52"
      },
      "execution_count": 25,
      "outputs": [
        {
          "output_type": "execute_result",
          "data": {
            "text/plain": [
              "shape: (5, 6)\n",
              "┌─────┬──────┬──────────────┬─────┬────────────────┬────────┐\n",
              "│ id  ┆ unom ┆ house_street ┆ nom ┆ nom_correction ┆ id_cum │\n",
              "│ --- ┆ ---  ┆ ---          ┆ --- ┆ ---            ┆ ---    │\n",
              "│ i64 ┆ i64  ┆ str          ┆ i64 ┆ i64            ┆ i64    │\n",
              "╞═════╪══════╪══════════════╪═════╪════════════════╪════════╡\n",
              "│ 1   ┆ 1001 ┆ Central      ┆ 10  ┆ 11             ┆ 1      │\n",
              "│ 2   ┆ 1002 ┆ Central      ┆ 11  ┆ 12             ┆ 3      │\n",
              "│ 3   ┆ 1003 ┆ Central      ┆ 12  ┆ 15             ┆ 6      │\n",
              "│ 4   ┆ 1004 ┆ North        ┆ 5   ┆ 7              ┆ 4      │\n",
              "│ 5   ┆ 1005 ┆ West         ┆ 7   ┆ 8              ┆ 5      │\n",
              "└─────┴──────┴──────────────┴─────┴────────────────┴────────┘"
            ],
            "text/html": [
              "<div><style>\n",
              ".dataframe > thead > tr,\n",
              ".dataframe > tbody > tr {\n",
              "  text-align: right;\n",
              "  white-space: pre-wrap;\n",
              "}\n",
              "</style>\n",
              "<small>shape: (5, 6)</small><table border=\"1\" class=\"dataframe\"><thead><tr><th>id</th><th>unom</th><th>house_street</th><th>nom</th><th>nom_correction</th><th>id_cum</th></tr><tr><td>i64</td><td>i64</td><td>str</td><td>i64</td><td>i64</td><td>i64</td></tr></thead><tbody><tr><td>1</td><td>1001</td><td>&quot;Central&quot;</td><td>10</td><td>11</td><td>1</td></tr><tr><td>2</td><td>1002</td><td>&quot;Central&quot;</td><td>11</td><td>12</td><td>3</td></tr><tr><td>3</td><td>1003</td><td>&quot;Central&quot;</td><td>12</td><td>15</td><td>6</td></tr><tr><td>4</td><td>1004</td><td>&quot;North&quot;</td><td>5</td><td>7</td><td>4</td></tr><tr><td>5</td><td>1005</td><td>&quot;West&quot;</td><td>7</td><td>8</td><td>5</td></tr></tbody></table></div>"
            ]
          },
          "metadata": {},
          "execution_count": 25
        }
      ]
    },
    {
      "cell_type": "markdown",
      "source": [
        "**Advanced Filtering**"
      ],
      "metadata": {
        "id": "cOvkTNJpWLHh"
      }
    },
    {
      "cell_type": "code",
      "source": [
        "# Multiple conditions\n",
        "df.filter((pl.col('id') > 2) & (pl.col('nom') < 7))"
      ],
      "metadata": {
        "colab": {
          "base_uri": "https://localhost:8080/",
          "height": 129
        },
        "id": "RSo-1ZSAWNRR",
        "outputId": "92a88340-4630-4f9d-e1e8-8c5cbe88009b"
      },
      "execution_count": 26,
      "outputs": [
        {
          "output_type": "execute_result",
          "data": {
            "text/plain": [
              "shape: (1, 5)\n",
              "┌─────┬──────┬──────────────┬─────┬────────────────┐\n",
              "│ id  ┆ unom ┆ house_street ┆ nom ┆ nom_correction │\n",
              "│ --- ┆ ---  ┆ ---          ┆ --- ┆ ---            │\n",
              "│ i64 ┆ i64  ┆ str          ┆ i64 ┆ i64            │\n",
              "╞═════╪══════╪══════════════╪═════╪════════════════╡\n",
              "│ 4   ┆ 1004 ┆ North        ┆ 5   ┆ 7              │\n",
              "└─────┴──────┴──────────────┴─────┴────────────────┘"
            ],
            "text/html": [
              "<div><style>\n",
              ".dataframe > thead > tr,\n",
              ".dataframe > tbody > tr {\n",
              "  text-align: right;\n",
              "  white-space: pre-wrap;\n",
              "}\n",
              "</style>\n",
              "<small>shape: (1, 5)</small><table border=\"1\" class=\"dataframe\"><thead><tr><th>id</th><th>unom</th><th>house_street</th><th>nom</th><th>nom_correction</th></tr><tr><td>i64</td><td>i64</td><td>str</td><td>i64</td><td>i64</td></tr></thead><tbody><tr><td>4</td><td>1004</td><td>&quot;North&quot;</td><td>5</td><td>7</td></tr></tbody></table></div>"
            ]
          },
          "metadata": {},
          "execution_count": 26
        }
      ]
    },
    {
      "cell_type": "code",
      "source": [
        "# Is in list\n",
        "df.filter(pl.col('unom').is_in([1001, 1002, 1003]))"
      ],
      "metadata": {
        "colab": {
          "base_uri": "https://localhost:8080/",
          "height": 192
        },
        "id": "7uK-Bz_QWdnj",
        "outputId": "286b1378-1f91-4b83-c67b-9c0d764b2e06"
      },
      "execution_count": 27,
      "outputs": [
        {
          "output_type": "execute_result",
          "data": {
            "text/plain": [
              "shape: (3, 5)\n",
              "┌─────┬──────┬──────────────┬─────┬────────────────┐\n",
              "│ id  ┆ unom ┆ house_street ┆ nom ┆ nom_correction │\n",
              "│ --- ┆ ---  ┆ ---          ┆ --- ┆ ---            │\n",
              "│ i64 ┆ i64  ┆ str          ┆ i64 ┆ i64            │\n",
              "╞═════╪══════╪══════════════╪═════╪════════════════╡\n",
              "│ 1   ┆ 1001 ┆ Central      ┆ 10  ┆ 11             │\n",
              "│ 2   ┆ 1002 ┆ Central      ┆ 11  ┆ 12             │\n",
              "│ 3   ┆ 1003 ┆ Central      ┆ 12  ┆ 15             │\n",
              "└─────┴──────┴──────────────┴─────┴────────────────┘"
            ],
            "text/html": [
              "<div><style>\n",
              ".dataframe > thead > tr,\n",
              ".dataframe > tbody > tr {\n",
              "  text-align: right;\n",
              "  white-space: pre-wrap;\n",
              "}\n",
              "</style>\n",
              "<small>shape: (3, 5)</small><table border=\"1\" class=\"dataframe\"><thead><tr><th>id</th><th>unom</th><th>house_street</th><th>nom</th><th>nom_correction</th></tr><tr><td>i64</td><td>i64</td><td>str</td><td>i64</td><td>i64</td></tr></thead><tbody><tr><td>1</td><td>1001</td><td>&quot;Central&quot;</td><td>10</td><td>11</td></tr><tr><td>2</td><td>1002</td><td>&quot;Central&quot;</td><td>11</td><td>12</td></tr><tr><td>3</td><td>1003</td><td>&quot;Central&quot;</td><td>12</td><td>15</td></tr></tbody></table></div>"
            ]
          },
          "metadata": {},
          "execution_count": 27
        }
      ]
    },
    {
      "cell_type": "markdown",
      "source": [
        "**Advanced Aggregations**"
      ],
      "metadata": {
        "id": "rnaFU5idWtfq"
      }
    },
    {
      "cell_type": "code",
      "source": [
        "# Multiple aggregations\n",
        "df.group_by('house_street').agg([\n",
        "    pl.sum('id').alias('id_sum'),\n",
        "    pl.mean('unom').alias('unom_mean'),\n",
        "    pl.n_unique('nom').alias('nom_unique_count')\n",
        "])"
      ],
      "metadata": {
        "colab": {
          "base_uri": "https://localhost:8080/",
          "height": 192
        },
        "id": "037A0iMoWlvL",
        "outputId": "30d32829-c37c-4f7d-f5f5-899840be232a"
      },
      "execution_count": 28,
      "outputs": [
        {
          "output_type": "execute_result",
          "data": {
            "text/plain": [
              "shape: (3, 4)\n",
              "┌──────────────┬────────┬───────────┬──────────────────┐\n",
              "│ house_street ┆ id_sum ┆ unom_mean ┆ nom_unique_count │\n",
              "│ ---          ┆ ---    ┆ ---       ┆ ---              │\n",
              "│ str          ┆ i64    ┆ f64       ┆ u32              │\n",
              "╞══════════════╪════════╪═══════════╪══════════════════╡\n",
              "│ North        ┆ 4      ┆ 1004.0    ┆ 1                │\n",
              "│ West         ┆ 5      ┆ 1005.0    ┆ 1                │\n",
              "│ Central      ┆ 6      ┆ 1002.0    ┆ 3                │\n",
              "└──────────────┴────────┴───────────┴──────────────────┘"
            ],
            "text/html": [
              "<div><style>\n",
              ".dataframe > thead > tr,\n",
              ".dataframe > tbody > tr {\n",
              "  text-align: right;\n",
              "  white-space: pre-wrap;\n",
              "}\n",
              "</style>\n",
              "<small>shape: (3, 4)</small><table border=\"1\" class=\"dataframe\"><thead><tr><th>house_street</th><th>id_sum</th><th>unom_mean</th><th>nom_unique_count</th></tr><tr><td>str</td><td>i64</td><td>f64</td><td>u32</td></tr></thead><tbody><tr><td>&quot;North&quot;</td><td>4</td><td>1004.0</td><td>1</td></tr><tr><td>&quot;West&quot;</td><td>5</td><td>1005.0</td><td>1</td></tr><tr><td>&quot;Central&quot;</td><td>6</td><td>1002.0</td><td>3</td></tr></tbody></table></div>"
            ]
          },
          "metadata": {},
          "execution_count": 28
        }
      ]
    },
    {
      "cell_type": "markdown",
      "source": [
        "**Reshaping Data**"
      ],
      "metadata": {
        "id": "-dKmvR5OX34z"
      }
    },
    {
      "cell_type": "code",
      "source": [
        "# Concatenate string columns\n",
        "df.with_columns(pl.concat_str(['id', 'unom'], separator='-').alias('new_code'))"
      ],
      "metadata": {
        "colab": {
          "base_uri": "https://localhost:8080/",
          "height": 255
        },
        "id": "Irskrud6X5LD",
        "outputId": "8d230523-d053-4b13-f703-15e4544c6bf5"
      },
      "execution_count": 29,
      "outputs": [
        {
          "output_type": "execute_result",
          "data": {
            "text/plain": [
              "shape: (5, 6)\n",
              "┌─────┬──────┬──────────────┬─────┬────────────────┬──────────┐\n",
              "│ id  ┆ unom ┆ house_street ┆ nom ┆ nom_correction ┆ new_code │\n",
              "│ --- ┆ ---  ┆ ---          ┆ --- ┆ ---            ┆ ---      │\n",
              "│ i64 ┆ i64  ┆ str          ┆ i64 ┆ i64            ┆ str      │\n",
              "╞═════╪══════╪══════════════╪═════╪════════════════╪══════════╡\n",
              "│ 1   ┆ 1001 ┆ Central      ┆ 10  ┆ 11             ┆ 1-1001   │\n",
              "│ 2   ┆ 1002 ┆ Central      ┆ 11  ┆ 12             ┆ 2-1002   │\n",
              "│ 3   ┆ 1003 ┆ Central      ┆ 12  ┆ 15             ┆ 3-1003   │\n",
              "│ 4   ┆ 1004 ┆ North        ┆ 5   ┆ 7              ┆ 4-1004   │\n",
              "│ 5   ┆ 1005 ┆ West         ┆ 7   ┆ 8              ┆ 5-1005   │\n",
              "└─────┴──────┴──────────────┴─────┴────────────────┴──────────┘"
            ],
            "text/html": [
              "<div><style>\n",
              ".dataframe > thead > tr,\n",
              ".dataframe > tbody > tr {\n",
              "  text-align: right;\n",
              "  white-space: pre-wrap;\n",
              "}\n",
              "</style>\n",
              "<small>shape: (5, 6)</small><table border=\"1\" class=\"dataframe\"><thead><tr><th>id</th><th>unom</th><th>house_street</th><th>nom</th><th>nom_correction</th><th>new_code</th></tr><tr><td>i64</td><td>i64</td><td>str</td><td>i64</td><td>i64</td><td>str</td></tr></thead><tbody><tr><td>1</td><td>1001</td><td>&quot;Central&quot;</td><td>10</td><td>11</td><td>&quot;1-1001&quot;</td></tr><tr><td>2</td><td>1002</td><td>&quot;Central&quot;</td><td>11</td><td>12</td><td>&quot;2-1002&quot;</td></tr><tr><td>3</td><td>1003</td><td>&quot;Central&quot;</td><td>12</td><td>15</td><td>&quot;3-1003&quot;</td></tr><tr><td>4</td><td>1004</td><td>&quot;North&quot;</td><td>5</td><td>7</td><td>&quot;4-1004&quot;</td></tr><tr><td>5</td><td>1005</td><td>&quot;West&quot;</td><td>7</td><td>8</td><td>&quot;5-1005&quot;</td></tr></tbody></table></div>"
            ]
          },
          "metadata": {},
          "execution_count": 29
        }
      ]
    },
    {
      "cell_type": "markdown",
      "source": [
        "**Conditional Expressions**"
      ],
      "metadata": {
        "id": "E6F_6da4Y56j"
      }
    },
    {
      "cell_type": "code",
      "source": [
        "# When-Then-Otherwise\n",
        "df.with_columns(\n",
        "    pl.when(pl.col('id') > 4)\n",
        "    .then(pl.lit('yes'))\n",
        "    .when(pl.col('id') < 2)\n",
        "    .then(pl.lit('no'))\n",
        "    .otherwise(pl.lit('-'))\n",
        "    .alias('house_category')\n",
        ")"
      ],
      "metadata": {
        "colab": {
          "base_uri": "https://localhost:8080/",
          "height": 255
        },
        "id": "66KmLlhYY6_s",
        "outputId": "848fc14c-897c-4f2a-e133-d840476a6085"
      },
      "execution_count": 30,
      "outputs": [
        {
          "output_type": "execute_result",
          "data": {
            "text/plain": [
              "shape: (5, 6)\n",
              "┌─────┬──────┬──────────────┬─────┬────────────────┬────────────────┐\n",
              "│ id  ┆ unom ┆ house_street ┆ nom ┆ nom_correction ┆ house_category │\n",
              "│ --- ┆ ---  ┆ ---          ┆ --- ┆ ---            ┆ ---            │\n",
              "│ i64 ┆ i64  ┆ str          ┆ i64 ┆ i64            ┆ str            │\n",
              "╞═════╪══════╪══════════════╪═════╪════════════════╪════════════════╡\n",
              "│ 1   ┆ 1001 ┆ Central      ┆ 10  ┆ 11             ┆ no             │\n",
              "│ 2   ┆ 1002 ┆ Central      ┆ 11  ┆ 12             ┆ -              │\n",
              "│ 3   ┆ 1003 ┆ Central      ┆ 12  ┆ 15             ┆ -              │\n",
              "│ 4   ┆ 1004 ┆ North        ┆ 5   ┆ 7              ┆ -              │\n",
              "│ 5   ┆ 1005 ┆ West         ┆ 7   ┆ 8              ┆ yes            │\n",
              "└─────┴──────┴──────────────┴─────┴────────────────┴────────────────┘"
            ],
            "text/html": [
              "<div><style>\n",
              ".dataframe > thead > tr,\n",
              ".dataframe > tbody > tr {\n",
              "  text-align: right;\n",
              "  white-space: pre-wrap;\n",
              "}\n",
              "</style>\n",
              "<small>shape: (5, 6)</small><table border=\"1\" class=\"dataframe\"><thead><tr><th>id</th><th>unom</th><th>house_street</th><th>nom</th><th>nom_correction</th><th>house_category</th></tr><tr><td>i64</td><td>i64</td><td>str</td><td>i64</td><td>i64</td><td>str</td></tr></thead><tbody><tr><td>1</td><td>1001</td><td>&quot;Central&quot;</td><td>10</td><td>11</td><td>&quot;no&quot;</td></tr><tr><td>2</td><td>1002</td><td>&quot;Central&quot;</td><td>11</td><td>12</td><td>&quot;-&quot;</td></tr><tr><td>3</td><td>1003</td><td>&quot;Central&quot;</td><td>12</td><td>15</td><td>&quot;-&quot;</td></tr><tr><td>4</td><td>1004</td><td>&quot;North&quot;</td><td>5</td><td>7</td><td>&quot;-&quot;</td></tr><tr><td>5</td><td>1005</td><td>&quot;West&quot;</td><td>7</td><td>8</td><td>&quot;yes&quot;</td></tr></tbody></table></div>"
            ]
          },
          "metadata": {},
          "execution_count": 30
        }
      ]
    }
  ]
}